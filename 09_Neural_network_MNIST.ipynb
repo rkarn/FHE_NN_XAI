{
 "cells": [
  {
   "cell_type": "markdown",
   "id": "71cefe17",
   "metadata": {},
   "source": [
    "## Inference under FHE for the MNIST Dataset using helayers\n",
    "\n",
    "In this demo, we'll deal with a classification problem for the MNIST dataset [1], trying to correctly classify a batch of samples using a neural network model that will be created and trained using the Keras library (with architecture similar to reference [2]).\n",
    "First, we'll build a plain neural network for the MNIST model. Then, we'll encrypt the trained network and run inference over it using FHE."
   ]
  },
  {
   "cell_type": "code",
   "execution_count": 1,
   "id": "bdf88e1e",
   "metadata": {
    "tags": []
   },
   "outputs": [
    {
     "name": "stderr",
     "output_type": "stream",
     "text": [
      "2025-04-23 08:50:31.613263: I tensorflow/core/util/port.cc:110] oneDNN custom operations are on. You may see slightly different numerical results due to floating-point round-off errors from different computation orders. To turn them off, set the environment variable `TF_ENABLE_ONEDNN_OPTS=0`.\n",
      "2025-04-23 08:50:31.657867: I tensorflow/tsl/cuda/cudart_stub.cc:28] Could not find cuda drivers on your machine, GPU will not be used.\n",
      "2025-04-23 08:50:31.968945: I tensorflow/tsl/cuda/cudart_stub.cc:28] Could not find cuda drivers on your machine, GPU will not be used.\n",
      "2025-04-23 08:50:31.971070: I tensorflow/core/platform/cpu_feature_guard.cc:182] This TensorFlow binary is optimized to use available CPU instructions in performance-critical operations.\n",
      "To enable the following instructions: AVX2 AVX_VNNI FMA, in other operations, rebuild TensorFlow with the appropriate compiler flags.\n",
      "2025-04-23 08:50:33.268896: W tensorflow/compiler/tf2tensorrt/utils/py_utils.cc:38] TF-TRT Warning: Could not find TensorRT\n"
     ]
    },
    {
     "name": "stdout",
     "output_type": "stream",
     "text": [
      "Misc. initializations\n"
     ]
    }
   ],
   "source": [
    "import os\n",
    "\n",
    "##### For reproducibility\n",
    "seed_value= 1\n",
    "os.environ['PYTHONHASHSEED']=str(seed_value)\n",
    "import random\n",
    "random.seed(seed_value)\n",
    "import numpy as np\n",
    "np.random.seed(seed_value)\n",
    "import tensorflow as tf\n",
    "tf.random.set_seed(seed_value)\n",
    "from tensorflow.keras import backend as K\n",
    "\n",
    "from tensorflow.keras import utils, losses\n",
    "import numpy as np\n",
    "from tensorflow.keras import backend as K\n",
    "from tensorflow.keras.layers import Dense, Flatten, Conv2D, Activation\n",
    "from tensorflow.keras.models import Sequential\n",
    "from tensorflow.keras.datasets import mnist\n",
    "import h5py\n",
    "\n",
    "# import activations\n",
    "import sys\n",
    "sys.path.append(os.path.join('.', 'data_gen'))\n",
    "from activations import SquareActivation\n",
    "\n",
    "PATH = os.path.join('data', 'net_mnist')\n",
    "if not os.path.exists(PATH):\n",
    "    os.makedirs(PATH)\n",
    "\n",
    "batch_size = 500\n",
    "epochs = 10\n",
    "print(\"Misc. initializations\")"
   ]
  },
  {
   "cell_type": "markdown",
   "id": "9d5bb3b0",
   "metadata": {},
   "source": [
    "### Load and Preprocess the MNIST Dataset. "
   ]
  },
  {
   "cell_type": "code",
   "execution_count": 2,
   "id": "c243f7f9",
   "metadata": {
    "tags": []
   },
   "outputs": [
    {
     "name": "stdout",
     "output_type": "stream",
     "text": [
      "data ready\n",
      "Added padding. New shape:  (60000, 29, 29, 1)\n"
     ]
    }
   ],
   "source": [
    "(x_train, y_train), (x_test, y_test) = mnist.load_data()\n",
    "\n",
    "x_train = x_train.astype('float32')\n",
    "x_test = x_test.astype('float32')\n",
    "\n",
    "x_train = np.expand_dims(x_train, -1)\n",
    "x_test = np.expand_dims(x_test, -1)\n",
    "\n",
    "x_train /= 255\n",
    "x_test /= 255\n",
    "print('data ready')\n",
    "\n",
    "# Image padding\n",
    "x_train = np.pad(x_train, ((0, 0), (0, 1), (0, 1), (0, 0)))\n",
    "x_test = np.pad(x_test, ((0, 0), (0, 1), (0, 1), (0, 0)))\n",
    "print('Added padding. New shape: ',x_train.shape)"
   ]
  },
  {
   "cell_type": "code",
   "execution_count": 3,
   "id": "30c161e3",
   "metadata": {
    "tags": []
   },
   "outputs": [
    {
     "name": "stdout",
     "output_type": "stream",
     "text": [
      "Validation and test data ready\n",
      "input shape: (29, 29, 1)\n"
     ]
    }
   ],
   "source": [
    "# Create validation data\n",
    "testSize=16\n",
    "x_val = x_test[:-testSize]\n",
    "x_test = x_test[-testSize:]\n",
    "y_val = y_test[:-testSize]\n",
    "y_test = y_test[-testSize:]\n",
    "print('Validation and test data ready')\n",
    "\n",
    "# Convert class vector to binary class matrices\n",
    "num_classes = 10\n",
    "y_train = utils.to_categorical(y_train, num_classes)\n",
    "y_test = utils.to_categorical(y_test, num_classes)\n",
    "y_val = utils.to_categorical(y_val, num_classes)\n",
    "\n",
    "input_shape = x_train[0].shape\n",
    "print(f'input shape: {input_shape}')"
   ]
  },
  {
   "cell_type": "markdown",
   "id": "5284f27b",
   "metadata": {},
   "source": [
    "### Save Dataset"
   ]
  },
  {
   "cell_type": "code",
   "execution_count": 4,
   "id": "969954aa",
   "metadata": {
    "tags": []
   },
   "outputs": [
    {
     "name": "stdout",
     "output_type": "stream",
     "text": [
      "Saving x_test of shape (16, 29, 29, 1) in data/net_mnist/x_test.h5\n",
      "Saving x_train of shape (60000, 29, 29, 1) in data/net_mnist/x_train.h5\n",
      "Saving x_val of shape (9984, 29, 29, 1) in data/net_mnist/x_val.h5\n"
     ]
    }
   ],
   "source": [
    "def save_data_set(x, y, data_type, s=''):\n",
    "    fname=os.path.join(PATH, f'x_{data_type}{s}.h5')\n",
    "    print(\"Saving x_{} of shape {} in {}\".format(data_type, x.shape,fname))\n",
    "    xf = h5py.File(fname, 'w')\n",
    "    xf.create_dataset('x_{}'.format(data_type), data=x)\n",
    "    xf.close()\n",
    "\n",
    "    yf = h5py.File(os.path.join(PATH, f'y_{data_type}{s}.h5'), 'w')\n",
    "    yf.create_dataset(f'y_{data_type}', data=y)\n",
    "    yf.close()\n",
    "\n",
    "save_data_set(x_test, y_test, data_type='test')\n",
    "save_data_set(x_train, y_train, data_type='train')\n",
    "save_data_set(x_val, y_val, data_type='val')"
   ]
  },
  {
   "cell_type": "markdown",
   "id": "8a8a6ed1",
   "metadata": {},
   "source": [
    "### Build a Plain Neural Network for the MNIST Model"
   ]
  },
  {
   "cell_type": "code",
   "execution_count": 5,
   "id": "27228c56",
   "metadata": {
    "tags": []
   },
   "outputs": [
    {
     "name": "stdout",
     "output_type": "stream",
     "text": [
      "Model: \"sequential\"\n",
      "_________________________________________________________________\n",
      " Layer (type)                Output Shape              Param #   \n",
      "=================================================================\n",
      " conv2d (Conv2D)             (None, 13, 13, 5)         130       \n",
      "                                                                 \n",
      " flatten (Flatten)           (None, 845)               0         \n",
      "                                                                 \n",
      " square_activation (SquareA  (None, 845)               0         \n",
      " ctivation)                                                      \n",
      "                                                                 \n",
      " dense (Dense)               (None, 100)               84600     \n",
      "                                                                 \n",
      " square_activation_1 (Squar  (None, 100)               0         \n",
      " eActivation)                                                    \n",
      "                                                                 \n",
      " dense_1 (Dense)             (None, 10)                1010      \n",
      "                                                                 \n",
      "=================================================================\n",
      "Total params: 85740 (334.92 KB)\n",
      "Trainable params: 85740 (334.92 KB)\n",
      "Non-trainable params: 0 (0.00 Byte)\n",
      "_________________________________________________________________\n"
     ]
    }
   ],
   "source": [
    "model = Sequential()\n",
    "model.add(Conv2D(filters=5, kernel_size=5, strides=2, padding='valid',\n",
    "                 input_shape=input_shape))\n",
    "model.add(Flatten())\n",
    "model.add(SquareActivation())\n",
    "model.add(Dense(100))\n",
    "model.add(SquareActivation())\n",
    "model.add(Dense(num_classes))\n",
    "\n",
    "model.summary()"
   ]
  },
  {
   "cell_type": "markdown",
   "id": "8f3829f0",
   "metadata": {},
   "source": [
    "### Train the Neural Network"
   ]
  },
  {
   "cell_type": "code",
   "execution_count": 6,
   "id": "609e5220",
   "metadata": {
    "tags": []
   },
   "outputs": [
    {
     "name": "stdout",
     "output_type": "stream",
     "text": [
      "Epoch 1/10\n",
      "120/120 - 2s - loss: 0.3931 - accuracy: 0.8425 - val_loss: 0.2056 - val_accuracy: 0.9550 - 2s/epoch - 13ms/step\n",
      "Epoch 2/10\n",
      "120/120 - 1s - loss: 0.1774 - accuracy: 0.9594 - val_loss: 0.1477 - val_accuracy: 0.9685 - 925ms/epoch - 8ms/step\n",
      "Epoch 3/10\n",
      "120/120 - 1s - loss: 0.1390 - accuracy: 0.9701 - val_loss: 0.1267 - val_accuracy: 0.9749 - 861ms/epoch - 7ms/step\n",
      "Epoch 4/10\n",
      "120/120 - 1s - loss: 0.1201 - accuracy: 0.9754 - val_loss: 0.1130 - val_accuracy: 0.9775 - 880ms/epoch - 7ms/step\n",
      "Epoch 5/10\n",
      "120/120 - 1s - loss: 0.1083 - accuracy: 0.9790 - val_loss: 0.1049 - val_accuracy: 0.9793 - 895ms/epoch - 7ms/step\n",
      "Epoch 6/10\n",
      "120/120 - 1s - loss: 0.1000 - accuracy: 0.9810 - val_loss: 0.0983 - val_accuracy: 0.9807 - 871ms/epoch - 7ms/step\n",
      "Epoch 7/10\n",
      "120/120 - 1s - loss: 0.0937 - accuracy: 0.9833 - val_loss: 0.0942 - val_accuracy: 0.9819 - 926ms/epoch - 8ms/step\n",
      "Epoch 8/10\n",
      "120/120 - 1s - loss: 0.0890 - accuracy: 0.9842 - val_loss: 0.0914 - val_accuracy: 0.9819 - 926ms/epoch - 8ms/step\n",
      "Epoch 9/10\n",
      "120/120 - 1s - loss: 0.0853 - accuracy: 0.9853 - val_loss: 0.0900 - val_accuracy: 0.9818 - 912ms/epoch - 8ms/step\n",
      "Epoch 10/10\n",
      "120/120 - 1s - loss: 0.0821 - accuracy: 0.9862 - val_loss: 0.0864 - val_accuracy: 0.9833 - 1s/epoch - 8ms/step\n",
      "Test loss: 0.044\n",
      "Test accuracy: 100.000%\n"
     ]
    }
   ],
   "source": [
    "def sum_squared_error(y_true, y_pred):\n",
    "    return K.sum(K.square(y_pred - y_true), axis=-1)\n",
    "\n",
    "model.compile(loss=sum_squared_error,\n",
    "                  optimizer='Adam',\n",
    "                  metrics=['accuracy'])\n",
    "\n",
    "model.fit(x_train, y_train,\n",
    "              batch_size=batch_size,\n",
    "              epochs=epochs,\n",
    "              verbose=2,\n",
    "              validation_data=(x_val, y_val),\n",
    "              shuffle=True,\n",
    "              )\n",
    "\n",
    "score = model.evaluate(x_test, y_test, verbose=0)\n",
    "\n",
    "print(f'Test loss: { score[0]:.3f}')\n",
    "print(f'Test accuracy: {score[1] * 100:.3f}%')"
   ]
  },
  {
   "cell_type": "markdown",
   "id": "2477a1b2",
   "metadata": {},
   "source": [
    "### Report the Confusion Matrix of the Trained Model"
   ]
  },
  {
   "cell_type": "code",
   "execution_count": 7,
   "id": "cbf299e3",
   "metadata": {
    "tags": []
   },
   "outputs": [
    {
     "name": "stdout",
     "output_type": "stream",
     "text": [
      "1/1 [==============================] - 0s 51ms/step\n",
      "[[1 0 0 0 0 0 0 0 0 0]\n",
      " [0 2 0 0 0 0 0 0 0 0]\n",
      " [0 0 2 0 0 0 0 0 0 0]\n",
      " [0 0 0 2 0 0 0 0 0 0]\n",
      " [0 0 0 0 2 0 0 0 0 0]\n",
      " [0 0 0 0 0 2 0 0 0 0]\n",
      " [0 0 0 0 0 0 2 0 0 0]\n",
      " [0 0 0 0 0 0 0 1 0 0]\n",
      " [0 0 0 0 0 0 0 0 1 0]\n",
      " [0 0 0 0 0 0 0 0 0 1]]\n"
     ]
    }
   ],
   "source": [
    "from sklearn import metrics\n",
    "\n",
    "y_pred_vals = model.predict(x_test)\n",
    "y_pred = np.argmax(y_pred_vals, axis=1)\n",
    "y_test = np.argmax(y_test, axis=1)\n",
    "cm = metrics.confusion_matrix(y_test, y_pred)\n",
    "print(cm)"
   ]
  },
  {
   "cell_type": "code",
   "execution_count": 8,
   "id": "ae15beff-2056-4bcd-a619-e514d8ebf518",
   "metadata": {
    "tags": []
   },
   "outputs": [
    {
     "name": "stdout",
     "output_type": "stream",
     "text": [
      "312/312 [==============================] - 1s 2ms/step\n",
      "[[ 971    1    4    0    1    0    0    1    1    0]\n",
      " [   0 1124    3    1    1    1    1    1    1    0]\n",
      " [   3    0 1017    0    0    0    1    5    3    1]\n",
      " [   0    0    5  991    0    4    0    4    4    0]\n",
      " [   1    0    0    0  964    0    4    1    2    8]\n",
      " [   2    1    0    5    0  877    3    1    1    0]\n",
      " [   5    3    0    1    1    4  939    1    2    0]\n",
      " [   0   10   11    0    1    1    0 1000    1    3]\n",
      " [   2    0    2    3    0    2    0    3  959    2]\n",
      " [   2    2    1    3   10    3    0    7    5  975]]\n"
     ]
    }
   ],
   "source": [
    "from sklearn import metrics\n",
    "\n",
    "y_pred_vals = model.predict(x_val)\n",
    "y_pred_max = np.argmax(y_pred_vals, axis=1)\n",
    "y_val_max = np.argmax(y_val, axis=1)\n",
    "cm = metrics.confusion_matrix(y_val_max, y_pred_max)\n",
    "print(cm)"
   ]
  },
  {
   "cell_type": "code",
   "execution_count": 14,
   "id": "737c7f55-904d-49f9-804a-0aec1f9653a8",
   "metadata": {
    "tags": []
   },
   "outputs": [
    {
     "name": "stdout",
     "output_type": "stream",
     "text": [
      "1/1 [==============================] - 0s 19ms/step\n"
     ]
    },
    {
     "data": {
      "application/vnd.jupyter.widget-view+json": {
       "model_id": "982467bca75544d095e28aafafb84ccb",
       "version_major": 2,
       "version_minor": 0
      },
      "text/plain": [
       "  0%|          | 0/2 [00:00<?, ?it/s]"
      ]
     },
     "metadata": {},
     "output_type": "display_data"
    },
    {
     "name": "stdout",
     "output_type": "stream",
     "text": [
      "1/1 [==============================] - 0s 14ms/step\n",
      "32/32 [==============================] - 0s 2ms/step\n",
      "1/1 [==============================] - 0s 12ms/step\n",
      "32/32 [==============================] - 0s 1ms/step\n"
     ]
    },
    {
     "data": {
      "image/png": "[encoded data removed]",
      "text/plain": [
       "<Figure size 2000x454.545 with 23 Axes>"
      ]
     },
     "metadata": {},
     "output_type": "display_data"
    },
    {
     "name": "stdout",
     "output_type": "stream",
     "text": [
      "SHAP explainability completed successfully!\n"
     ]
    }
   ],
   "source": [
    "import numpy as np\n",
    "import shap\n",
    "import tensorflow as tf\n",
    "import matplotlib.pyplot as plt\n",
    "\n",
    "# ---- Dimensionality Reduction with Pooling ----\n",
    "def reduce_with_pooling(images, pool_size=2):\n",
    "    \"\"\"\n",
    "    Reduce the feature space using average pooling to downsample images.\n",
    "    \"\"\"\n",
    "    reduced_images = tf.nn.avg_pool(\n",
    "        images,\n",
    "        ksize=(1, pool_size, pool_size, 1),\n",
    "        strides=(1, pool_size, pool_size, 1),\n",
    "        padding='VALID'\n",
    "    )\n",
    "    return reduced_images.numpy()\n",
    "\n",
    "# Apply pooling to reduce dimensions for both background and test samples\n",
    "pool_size = 2  # Pooling factor\n",
    "background_reduced = reduce_with_pooling(x_train[:10])  # First 10 training images as background\n",
    "x_test_reduced = reduce_with_pooling(x_test[:2])  # First 2 test samples for explanation\n",
    "\n",
    "# Flatten the pooled images for SHAP compatibility\n",
    "background_flattened = background_reduced.reshape((background_reduced.shape[0], -1))\n",
    "x_test_flattened = x_test_reduced.reshape((x_test_reduced.shape[0], -1))\n",
    "\n",
    "# ---- Define Prediction Function ----\n",
    "def predict_fn(data):\n",
    "    \"\"\"\n",
    "    Map reduced representations back to the full-size input for predictions.\n",
    "    \"\"\"\n",
    "    full_images = tf.image.resize(tf.convert_to_tensor(data.reshape((-1, *background_reduced.shape[1:]))), (29, 29))\n",
    "    return model.predict(full_images.numpy())\n",
    "\n",
    "# ---- Initialize SHAP KernelExplainer ----\n",
    "explainer = shap.KernelExplainer(predict_fn, background_flattened)\n",
    "\n",
    "# ---- Compute SHAP Values ----\n",
    "shap_values = explainer.shap_values(x_test_flattened, nsamples=100)  # Limit to 100 perturbations\n",
    "\n",
    "# ---- Adjust SHAP Visualization ----\n",
    "# Reshape SHAP values to match the original image dimensions (if needed)\n",
    "shap_values_reshaped = [value.reshape((-1, *background_reduced.shape[1:])) for value in shap_values]\n",
    "\n",
    "# Visualize SHAP explanations with properly structured data\n",
    "shap.image_plot(shap_values_reshaped, x_test[:2])  # Match test samples with SHAP values\n",
    "\n",
    "# Save SHAP values if needed\n",
    "np.save('shap_values.npy', shap_values)\n",
    "\n",
    "print(\"SHAP explainability completed successfully!\")\n"
   ]
  },
  {
   "cell_type": "markdown",
   "id": "ccd6ade2-b5ad-4ed3-8a67-d9f0ee1e86be",
   "metadata": {},
   "source": [
    "The presence of 10 SHAP plots (or columns) per sample corresponds to the 10 output classes of the model, since your model is trained on the MNIST dataset, which has 10 possible digit classes (0 through 9).\n",
    "\n",
    "Here's what each column represents:\n",
    "\n",
    "1. SHAP Values for Each Class\n",
    "Each column shows the SHAP explanation for how the features (pixels) contribute to the probability of the corresponding digit class. For example:\n",
    "\n",
    "The first column explains the contribution of the image's pixels to the model's probability for the digit \"0.\"\n",
    "\n",
    "The second column does the same for the probability of the digit \"1.\"\n",
    "\n",
    "This continues up to the last column, which explains the contribution of the pixels to the probability of the digit \"9.\"\n",
    "\n",
    "2. Interpretation for Each Column\n",
    "Red Areas: These pixels increase the probability for the respective digit class.\n",
    "\n",
    "Blue Areas: These pixels decrease the probability for the respective digit class.\n",
    "\n",
    "The magnitude of the red or blue colors indicates the strength of the contribution (positive or negative) to the specific class.\n",
    "\n",
    "3. Why Are There 10 Columns per Sample?\n",
    "The model outputs a probability distribution over all 10 classes for each input image. The SHAP framework calculates feature contributions for each class independently, even though the predicted class might be just one of them.\n",
    "\n",
    "For example:\n",
    "\n",
    "If the sample is an image of the digit \"1,\" you might see:\n",
    "\n",
    "Strong red contributions in the second column (digit \"1\"), as the relevant pixels reinforce this prediction.\n",
    "\n",
    "Predominantly blue contributions in other columns (e.g., \"0,\" \"2,\" etc.), showing how the same pixels decrease the probability of those other classes.\n",
    "\n",
    "Takeaway\n",
    "The 10 plots provide a holistic view of how the model interprets an image across all possible classes. This helps you verify whether the model is confidently focusing on relevant features for the correct class, while also checking if it mistakenly assigns probabilities to irrelevant classes."
   ]
  },
  {
   "cell_type": "markdown",
   "id": "57e4b519",
   "metadata": {},
   "source": [
    "### Serialize Model and Weights"
   ]
  },
  {
   "cell_type": "code",
   "execution_count": 21,
   "id": "82393d1a",
   "metadata": {
    "tags": []
   },
   "outputs": [
    {
     "name": "stdout",
     "output_type": "stream",
     "text": [
      "Saved model to disk\n"
     ]
    }
   ],
   "source": [
    "model_json = model.to_json()\n",
    "with open(os.path.join(PATH, 'model.json'), \"w\") as json_file:\n",
    "    json_file.write(model_json)\n",
    "# serialize weights to HDF5\n",
    "model.save_weights(os.path.join(PATH, 'model.h5'))\n",
    "print(\"Saved model to disk\")"
   ]
  },
  {
   "cell_type": "markdown",
   "id": "9211fd0b",
   "metadata": {},
   "source": [
    "We are all done training the plain network. Next we will encrypt the network and run inference over it using FHE. Let's start with some initializations."
   ]
  },
  {
   "cell_type": "code",
   "execution_count": 22,
   "id": "aee4130e",
   "metadata": {
    "tags": []
   },
   "outputs": [
    {
     "name": "stdout",
     "output_type": "stream",
     "text": [
      "\u001b[1;31mWarning: total available memory is 7.481624603271484 GB the minimum required memory is 8 GB\n",
      "\u001b[0;0mMisc. initializations\n"
     ]
    }
   ],
   "source": [
    "import pyhelayers\n",
    "import utils\n",
    "\n",
    "utils.verify_memory()\n",
    "\n",
    "print('Misc. initializations')"
   ]
  },
  {
   "cell_type": "markdown",
   "id": "fd942b0e",
   "metadata": {},
   "source": [
    "The following is a general outline of the next steps.\n",
    "\n",
    "We encode and encrypt a neural network model, using the files that were created and saved before. An automated optimizer, that occurs during the call to encode_encrypt, will examine our network and will determine various configuration details that will allow running inference under encryption efficiently.\n",
    "\n",
    "Next, we will demonstrate how we can encrypt data, run inference on our encrypted network, and compare the results against the expected labels.\n",
    "Now let's dive in . . ."
   ]
  },
  {
   "cell_type": "code",
   "execution_count": 23,
   "id": "40e11341",
   "metadata": {
    "tags": []
   },
   "outputs": [],
   "source": [
    "he_run_req = pyhelayers.HeRunRequirements()\n",
    "he_run_req.set_he_context_options([pyhelayers.DefaultContext()])\n",
    "he_run_req.optimize_for_batch_size(16)\n",
    "\n",
    "nn = pyhelayers.NeuralNet()\n",
    "nn.encode_encrypt([os.path.join(PATH, \"model.json\"), os.path.join(PATH, \"model.h5\")], he_run_req)"
   ]
  },
  {
   "cell_type": "markdown",
   "id": "0edbc4be",
   "metadata": {},
   "source": [
    "The encode_encrypt method also initialized an HeContext object containing the keys. We obtain it now from the model so we can encrypt the input data."
   ]
  },
  {
   "cell_type": "code",
   "execution_count": 24,
   "id": "1730768d",
   "metadata": {
    "tags": []
   },
   "outputs": [],
   "source": [
    "context = nn.get_created_he_context()"
   ]
  },
  {
   "cell_type": "markdown",
   "id": "91afd062",
   "metadata": {},
   "source": [
    "We will now load real samples of the MNIST dataset to classify. We will load the samples and the corresponding true labels from HDF5 files. We will also extract the first batch of samples and labels."
   ]
  },
  {
   "cell_type": "code",
   "execution_count": 25,
   "id": "3cb16a44",
   "metadata": {
    "tags": []
   },
   "outputs": [
    {
     "name": "stdout",
     "output_type": "stream",
     "text": [
      "Batch of size 500 loaded\n"
     ]
    }
   ],
   "source": [
    "with h5py.File(os.path.join(PATH, \"x_test.h5\")) as f:\n",
    "    x_test = np.array(f[\"x_test\"])\n",
    "with h5py.File(os.path.join(PATH, \"y_test.h5\")) as f:\n",
    "    y_test = np.array(f[\"y_test\"])\n",
    "    \n",
    "plain_samples, labels = utils.extract_batch(x_test, y_test, batch_size, 0)\n",
    "\n",
    "print('Batch of size',batch_size,'loaded')"
   ]
  },
  {
   "cell_type": "markdown",
   "id": "32a4eee5",
   "metadata": {},
   "source": [
    "To populate the input, we need to encode and then encrypt the values of the plain input under HE."
   ]
  },
  {
   "cell_type": "code",
   "execution_count": 26,
   "id": "3f8a882b",
   "metadata": {
    "tags": []
   },
   "outputs": [
    {
     "name": "stdout",
     "output_type": "stream",
     "text": [
      "Test data encrypted\n"
     ]
    }
   ],
   "source": [
    "model_io_encoder = pyhelayers.ModelIoEncoder(nn)\n",
    "samples = pyhelayers.EncryptedData(context)\n",
    "model_io_encoder.encode_encrypt(samples, [plain_samples])\n",
    "print('Test data encrypted')"
   ]
  },
  {
   "cell_type": "markdown",
   "id": "59df1642",
   "metadata": {},
   "source": [
    "We now go ahead with the inference itself. We run the encrypted input through the encrypted NN to obtain encrypted results. This computation does not use the secret key and acts on completely encrypted values. Running the inference is done using the \"predict\" method of the NN, that receives the destination 3D structure to put the result of the computation in, and the input for the inference."
   ]
  },
  {
   "cell_type": "code",
   "execution_count": 21,
   "id": "00f4d6ee",
   "metadata": {
    "tags": []
   },
   "outputs": [
    {
     "name": "stdout",
     "output_type": "stream",
     "text": [
      "Duration of predict: 0.906 (s)\n",
      "Duration of predict per sample: 0.002 (s)\n"
     ]
    }
   ],
   "source": [
    "utils.start_timer()\n",
    "\n",
    "predictions = pyhelayers.EncryptedData(context)\n",
    "nn.predict(predictions, samples)\n",
    "\n",
    "duration=utils.end_timer('predict')\n",
    "utils.report_duration('predict per sample',duration/batch_size)"
   ]
  },
  {
   "cell_type": "markdown",
   "id": "75ecf2a9",
   "metadata": {},
   "source": [
    "In order to assess the results of the computation, we first need to decrypt them. This is done by an IO processor that has the secret key and is capable of decrypting the ciphertext and decoding it into plaintext version of the HE computation result."
   ]
  },
  {
   "cell_type": "code",
   "execution_count": 22,
   "id": "a17629ce",
   "metadata": {
    "tags": []
   },
   "outputs": [
    {
     "name": "stdout",
     "output_type": "stream",
     "text": [
      "predictions [[ 0.01508655  0.9556766  -0.03254654 -0.0498449  -0.02826862 -0.03830043\n",
      "   0.03392333  0.12958999  0.03242511 -0.04932714]\n",
      " [-0.02009235  0.07079617  0.81363009  0.08180354 -0.07353853 -0.06460142\n",
      "   0.075831    0.20277292  0.0717024  -0.12123238]\n",
      " [-0.02696569 -0.01127931 -0.02921735  0.94552477  0.03677153  0.01486113\n",
      "   0.02564035 -0.04214175  0.01752971  0.06823581]\n",
      " [-0.0211434  -0.03980317  0.00716084  0.00199379  1.12982181 -0.04549023\n",
      "   0.00759635 -0.02203351 -0.03035469  0.00329346]\n",
      " [-0.0122534   0.03895842  0.01073258 -0.09541493 -0.01397666  1.0175656\n",
      "   0.04253887  0.02883085 -0.02768353 -0.05722819]\n",
      " [-0.02556069 -0.01277226  0.02841343 -0.03513888 -0.01457178  0.03727296\n",
      "   1.03760964 -0.01876368  0.01511617 -0.00418618]\n",
      " [-0.03429304 -0.00731335 -0.02504475 -0.00593381 -0.01856585 -0.009705\n",
      "   0.0330103   1.05247671  0.01809032  0.04164397]\n",
      " [ 0.02558459  0.07087585  0.00838081 -0.06852435  0.20419284  0.01208903\n",
      "  -0.00149254 -0.11654867  0.8952453  -0.1003163 ]\n",
      " [-0.03799306 -0.00829021  0.02098139 -0.02585925  0.20561075 -0.0333165\n",
      "  -0.02913166 -0.07604563 -0.01528036  1.03264078]\n",
      " [ 0.64635414 -0.02781183  0.08774725  0.00733315 -0.07797991  0.0418152\n",
      "  -0.04233747  0.05082487  0.14509738  0.10027853]\n",
      " [-0.00219596  0.97951897  0.03012648 -0.0252521   0.00158108 -0.0079007\n",
      "   0.01698326 -0.00149296 -0.01536589  0.00419964]\n",
      " [ 0.01476943  0.02527408  1.2031678  -0.07180345  0.01017868  0.01837542\n",
      "  -0.01646701 -0.02357389 -0.020649   -0.05601906]\n",
      " [ 0.0113301   0.00588593  0.01346756  0.95810269 -0.04545638 -0.03472983\n",
      "   0.00422219 -0.03102967  0.007718    0.04374086]\n",
      " [ 0.07474096 -0.02041337  0.0662263  -0.05004852  1.01028113 -0.07426049\n",
      "   0.01286392  0.04967729 -0.05636167 -0.01202069]\n",
      " [-0.05687768 -0.06975618  0.03976407 -0.03965443 -0.11702268  1.12800956\n",
      "   0.01440642 -0.01655638  0.07265306 -0.01522957]\n",
      " [ 0.05198497 -0.01517716  0.01938664  0.06833943  0.0080213   0.00709296\n",
      "   0.83953692 -0.02542403 -0.0097324  -0.01009746]]\n"
     ]
    }
   ],
   "source": [
    "plain_predictions = model_io_encoder.decrypt_decode_output(predictions)\n",
    "print('predictions',plain_predictions)"
   ]
  },
  {
   "cell_type": "markdown",
   "id": "d884b6a5",
   "metadata": {},
   "source": [
    "Now we compare the results against the expected labels and compute the confusion matrix and the accuracy."
   ]
  },
  {
   "cell_type": "code",
   "execution_count": 23,
   "id": "3258d071",
   "metadata": {
    "tags": []
   },
   "outputs": [
    {
     "name": "stdout",
     "output_type": "stream",
     "text": [
      "\n",
      "Confusion Matrix:\n",
      "[[1 0 0 0 0 0 0 0 0 0]\n",
      " [0 2 0 0 0 0 0 0 0 0]\n",
      " [0 0 2 0 0 0 0 0 0 0]\n",
      " [0 0 0 2 0 0 0 0 0 0]\n",
      " [0 0 0 0 2 0 0 0 0 0]\n",
      " [0 0 0 0 0 2 0 0 0 0]\n",
      " [0 0 0 0 0 0 2 0 0 0]\n",
      " [0 0 0 0 0 0 0 1 0 0]\n",
      " [0 0 0 0 0 0 0 0 1 0]\n",
      " [0 0 0 0 0 0 0 0 0 1]]\n"
     ]
    },
    {
     "data": {
      "text/plain": [
       "1.0"
      ]
     },
     "execution_count": 23,
     "metadata": {},
     "output_type": "execute_result"
    }
   ],
   "source": [
    "utils.assess_results(labels, plain_predictions)"
   ]
  },
  {
   "cell_type": "code",
   "execution_count": 36,
   "id": "ac7f3b3a-5f45-4b78-b2a5-fc979b871b3d",
   "metadata": {
    "tags": []
   },
   "outputs": [
    {
     "name": "stdout",
     "output_type": "stream",
     "text": [
      "\u001b[1;31mWarning: total available memory is 7.481624603271484 GB the minimum required memory is 8 GB\n",
      "\u001b[0;0mInitializing homomorphic encryption for SHAP values...\n",
      "Shape of combined SHAP values before resizing: (2, 14, 14, 1)\n",
      "Shape of combined SHAP values after resizing: (2, 29, 29, 1)\n",
      "SHAP values encrypted successfully.\n",
      "Decrypted network predictions from encrypted SHAP values: [[ 0.03924931  0.30495556  0.11677175  0.08060453  0.02740902  0.40723772\n",
      "   0.03024192  0.14935137 -0.11697674 -0.01308532]\n",
      " [ 0.03958081  0.30490711  0.11654149  0.08044238  0.02735919  0.40732359\n",
      "   0.03000222  0.14937533 -0.11687706 -0.01298974]]\n"
     ]
    }
   ],
   "source": [
    "import os\n",
    "import numpy as np\n",
    "import pyhelayers\n",
    "import utils          # from your existing FHE setup\n",
    "import tensorflow as tf  # for resizing\n",
    "\n",
    "# Verify memory and initialize FHE context\n",
    "utils.verify_memory()\n",
    "print('Initializing homomorphic encryption for SHAP values...')\n",
    "\n",
    "he_run_req = pyhelayers.HeRunRequirements()\n",
    "he_run_req.set_he_context_options([pyhelayers.DefaultContext()])\n",
    "he_run_req.optimize_for_batch_size(16)\n",
    "\n",
    "# Initialize and encrypt the neural network model\n",
    "nn = pyhelayers.NeuralNet()\n",
    "nn.encode_encrypt([os.path.join(PATH, \"model.json\"), os.path.join(PATH, \"model.h5\")], he_run_req)\n",
    "context = nn.get_created_he_context()\n",
    "\n",
    "# ---------------------------------------------------------------------------\n",
    "# Assume you have computed your SHAP values already.\n",
    "# shap_values_reshaped is a list of 10 arrays (one per class) where each array\n",
    "# has shape (n_samples, h, w, 1). In your case the intermediate shape is (n_samples, 14, 14, 1).\n",
    "# ---------------------------------------------------------------------------\n",
    "\n",
    "# Combine the 10 outputs into one by averaging over the class axis.\n",
    "combined_shap_values = np.mean(np.array(shap_values_reshaped), axis=0)\n",
    "print(\"Shape of combined SHAP values before resizing:\", combined_shap_values.shape)\n",
    "# For example, (n_samples, 14, 14, 1)\n",
    "\n",
    "# Your FHE model expects inputs of shape (-1, 29, 29, 1) so resize if necessary:\n",
    "expected_shape = (29, 29)\n",
    "if combined_shap_values.shape[1:3] != expected_shape:\n",
    "    # Resize the images to match expected dimensions (using bilinear interpolation)\n",
    "    combined_shap_values = tf.image.resize(combined_shap_values, expected_shape,\n",
    "                                           method=tf.image.ResizeMethod.BILINEAR).numpy()\n",
    "\n",
    "print(\"Shape of combined SHAP values after resizing:\", combined_shap_values.shape)\n",
    "# Now should be (n_samples, 29, 29, 1)\n",
    "\n",
    "# Prepare the EncryptedData object and the Model I/O encoder.\n",
    "shap_encrypted = pyhelayers.EncryptedData(context)\n",
    "shap_io_encoder = pyhelayers.ModelIoEncoder(nn)\n",
    "\n",
    "# Encrypt the combined SHAP values.\n",
    "# The encoder expects a list with one numpy array matching the network’s input shape.\n",
    "shap_io_encoder.encode_encrypt(shap_encrypted, [combined_shap_values])\n",
    "print('SHAP values encrypted successfully.')\n",
    "\n",
    "# ---------------------------------------------------------------------------\n",
    "# Verification: Instead of decrypting the raw encrypted input, \n",
    "# perform a forward pass through the encrypted neural network.\n",
    "# This simulates the normal FHE workflow.\n",
    "# ---------------------------------------------------------------------------\n",
    "\n",
    "# Create an EncryptedData object to hold the network's output.\n",
    "encrypted_output = pyhelayers.EncryptedData(context)\n",
    "\n",
    "# Pass the encrypted SHAP values through the network's prediction routine.\n",
    "nn.predict(encrypted_output, shap_encrypted)\n",
    "\n",
    "# Decrypt and decode the network's output.\n",
    "decrypted_output = shap_io_encoder.decrypt_decode_output(encrypted_output)\n",
    "print('Decrypted network predictions from encrypted SHAP values:', decrypted_output)\n",
    "\n",
    "# Note:\n",
    "# These predictions correspond to the neural network's output for the given SHAP values.\n",
    "# They may not be interpretable as \"SHAP values\" since the network's forward path was applied.\n"
   ]
  },
  {
   "cell_type": "markdown",
   "id": "da22a70e-8d78-4b72-8631-06f7d5b102e4",
   "metadata": {},
   "source": [
    "In our FHE framework the method decrypt_decode_output() is designed to decrypt the output of the neural network’s forward pass, not an encrypted input. (When you encrypt your training or test data you later call the network’s predict routine and then decrypt its output.)\n",
    "\n",
    "To verify (i.e. to do a “round‐trip”) that your encryption works correctly, you should run a forward pass on your encrypted SHAP values through your (FHE‑encrypted) neural network, then decrypt the network’s output. (Note—the decrypted output will be the network’s prediction when given SHAP values as input; it won’t be the original SHAP values, but it will verify that encryption and evaluation are working.)\n",
    "\n",
    "Below is the modified code for verification that replaces the direct decryption of the input with a call to the network’s predict method before decryption:"
   ]
  },
  {
   "cell_type": "code",
   "execution_count": 37,
   "id": "652467e7-2349-4dc0-98c6-2dd53548e5b4",
   "metadata": {
    "tags": []
   },
   "outputs": [
    {
     "name": "stdout",
     "output_type": "stream",
     "text": [
      "\u001b[1;31mWarning: total available memory is 7.481624603271484 GB the minimum required memory is 8 GB\n",
      "\u001b[0;0mInitializing homomorphic encryption for SHAP values...\n",
      "Shape of combined SHAP values before resizing: (2, 14, 14, 1)\n",
      "Shape of combined SHAP values after resizing: (2, 29, 29, 1)\n",
      "SHAP values encrypted successfully.\n",
      "Running encrypted inference on the SHAP values...\n",
      "Decrypted network predictions from encrypted SHAP values:\n",
      "[[ 0.03924931  0.30495556  0.11677175  0.08060453  0.02740902  0.40723772\n",
      "   0.03024192  0.14935137 -0.11697674 -0.01308532]\n",
      " [ 0.03958081  0.30490711  0.11654149  0.08044238  0.02735919  0.40732359\n",
      "   0.03000222  0.14937533 -0.11687706 -0.01298974]]\n"
     ]
    }
   ],
   "source": [
    "import os\n",
    "import numpy as np\n",
    "import pyhelayers\n",
    "import utils           # Your helper module from the FHE setup\n",
    "import tensorflow as tf  # Used for resizing\n",
    "\n",
    "# Assume PATH is set and points to the folder with model.json and model.h5.\n",
    "# Also assume shap_values_reshaped is already computed: a list of 10 arrays (one per class)\n",
    "# For instance: shap_values_reshaped = [shap_class0, shap_class1, ..., shap_class9]\n",
    "\n",
    "# ------------------------------------------------------------------------------\n",
    "# 1. Initialize and Encrypt Neural Network Model (FHE Setup)\n",
    "# ------------------------------------------------------------------------------\n",
    "utils.verify_memory()\n",
    "print(\"Initializing homomorphic encryption for SHAP values...\")\n",
    "\n",
    "he_run_req = pyhelayers.HeRunRequirements()\n",
    "he_run_req.set_he_context_options([pyhelayers.DefaultContext()])\n",
    "he_run_req.optimize_for_batch_size(16)\n",
    "\n",
    "nn = pyhelayers.NeuralNet()\n",
    "nn.encode_encrypt([os.path.join(PATH, \"model.json\"), os.path.join(PATH, \"model.h5\")], he_run_req)\n",
    "context = nn.get_created_he_context()\n",
    "\n",
    "# ------------------------------------------------------------------------------\n",
    "# 2. Process SHAP Values to Match Network Input Requirements\n",
    "# ------------------------------------------------------------------------------\n",
    "# Combine the 10 per-class SHAP outputs by averaging over the class axis.\n",
    "combined_shap_values = np.mean(np.array(shap_values_reshaped), axis=0)\n",
    "print(\"Shape of combined SHAP values before resizing:\", combined_shap_values.shape)\n",
    "# (For example, this may print: (n_samples, 14, 14, 1))\n",
    "\n",
    "# The network expects its input to be shaped as (-1, 29, 29, 1).\n",
    "expected_spatial_dims = (29, 29)\n",
    "if combined_shap_values.shape[1:3] != expected_spatial_dims:\n",
    "    combined_shap_values = tf.image.resize(combined_shap_values, expected_spatial_dims,\n",
    "                                           method=tf.image.ResizeMethod.BILINEAR).numpy()\n",
    "print(\"Shape of combined SHAP values after resizing:\", combined_shap_values.shape)\n",
    "# Now, should be: (n_samples, 29, 29, 1)\n",
    "\n",
    "# ------------------------------------------------------------------------------\n",
    "# 3. Encrypt the Combined SHAP Values \n",
    "# ------------------------------------------------------------------------------\n",
    "# Create an EncryptedData object and use the ModelIoEncoder to encrypt.\n",
    "shap_encrypted = pyhelayers.EncryptedData(context)\n",
    "shap_io_encoder = pyhelayers.ModelIoEncoder(nn)\n",
    "\n",
    "# The encoder expects a list with exactly one NumPy array (matching the network input)\n",
    "shap_io_encoder.encode_encrypt(shap_encrypted, [combined_shap_values])\n",
    "print(\"SHAP values encrypted successfully.\")\n",
    "\n",
    "# ------------------------------------------------------------------------------\n",
    "# 4. Verification: Run Encrypted Inference and Decrypt the Output\n",
    "# ------------------------------------------------------------------------------\n",
    "# Instead of decrypting the raw input, perform a forward encrypted inference.\n",
    "encrypted_output = pyhelayers.EncryptedData(context)\n",
    "\n",
    "print(\"Running encrypted inference on the SHAP values...\")\n",
    "nn.predict(encrypted_output, shap_encrypted)\n",
    "\n",
    "# Decrypt and decode the network's predictions.\n",
    "decrypted_output = shap_io_encoder.decrypt_decode_output(encrypted_output)\n",
    "print(\"Decrypted network predictions from encrypted SHAP values:\")\n",
    "print(decrypted_output)\n",
    "\n",
    "# ------------------------------------------------------------------------------\n",
    "# Note:\n",
    "# The decrypted_output gives you the network's output (predictions) when provided with\n",
    "# the encrypted SHAP values as input. This round-trip verifies that the encryption,\n",
    "# network evaluation, and decryption steps are functioning as expected.\n",
    "# ------------------------------------------------------------------------------\n"
   ]
  },
  {
   "cell_type": "markdown",
   "id": "66e29731-24e1-4eee-afba-312ecf2bc432",
   "metadata": {},
   "source": [
    "\n",
    "Plaintext Predictions: These are obtained by running your original Keras model on the combined SHAP values in cleartext. They represent how the model \"sees\" the explanation information from the SHAP values.\n",
    "\n",
    "FHE Predictions: These are obtained by encrypting the same combined SHAP values, running them through your FHE-encrypted model, and then decrypting the output. The FHE process is designed to yield (within a small numerical margin due to approximations) the same output as the plaintext inference.\n",
    "\n",
    "Comparing Predictions: By comparing the two sets of predictions (e.g., via an absolute difference), you can verify that the FHE pipeline preserves the essential explanatory information contained in the SHAP values. In an ideal scenario, the predictions should be nearly identical (perhaps differing only in small numerical precision or rounding).\n",
    "\n",
    "Regarding the Explanation: Ultimately, if the FHE and plaintext predictions agree, then you have confidence that applying FHE to your SHAP values retains the same information. You could then use the decrypted FHE inference as an indicator of how the SHAP values support a given class. For instance, if—for a particular sample—the highest score in both plaintext and FHE predictions corresponds to the same class, you can assert that the FHE process correctly preserves the model’s explanation properties.\n",
    "\n",
    "This code, and its comparison of plaintext versus FHE predictions, fulfills the objective of checking that the encrypted SHAP values preserve the same information as the original SHAP values."
   ]
  },
  {
   "cell_type": "code",
   "execution_count": 38,
   "id": "527ab59f-486d-4d71-96c2-726b15e2daaa",
   "metadata": {
    "tags": []
   },
   "outputs": [
    {
     "name": "stdout",
     "output_type": "stream",
     "text": [
      "Shape of combined SHAP values before resizing: (2, 14, 14, 1)\n",
      "Shape of combined SHAP values after resizing: (2, 29, 29, 1)\n",
      "1/1 [==============================] - 0s 52ms/step\n",
      "Plaintext predictions from combined SHAP values:\n",
      "[[ 0.03924934  0.3049555   0.11677174  0.08060454  0.027409    0.40723768\n",
      "   0.03024194  0.14935136 -0.11697674 -0.01308529]\n",
      " [ 0.03958081  0.30490708  0.1165415   0.08044241  0.0273592   0.40732357\n",
      "   0.0300022   0.14937532 -0.11687708 -0.01298973]]\n",
      "\u001b[1;31mWarning: total available memory is 7.481624603271484 GB the minimum required memory is 8 GB\n",
      "\u001b[0;0mInitializing homomorphic encryption for SHAP values...\n",
      "SHAP values encrypted successfully.\n",
      "Running encrypted inference on the combined SHAP values...\n",
      "FHE predictions (decrypted) from combined SHAP values:\n",
      "[[ 0.0392493   0.30495556  0.11677175  0.08060453  0.02740902  0.40723772\n",
      "   0.03024192  0.14935137 -0.11697674 -0.01308532]\n",
      " [ 0.03958081  0.30490711  0.1165415   0.08044239  0.02735919  0.40732359\n",
      "   0.03000222  0.14937533 -0.11687706 -0.01298974]]\n",
      "Difference between plaintext and FHE predictions:\n",
      "[[3.78212395e-08 4.63221571e-08 1.20918012e-08 1.28922294e-08\n",
      "  1.77212182e-08 3.91844437e-08 2.13295836e-08 1.35780502e-08\n",
      "  6.20907309e-09 2.95746370e-08]\n",
      " [1.77105555e-09 2.84262747e-08 9.84874489e-09 2.85424582e-08\n",
      "  6.88815010e-09 2.29201387e-08 2.53215090e-08 9.82416462e-09\n",
      "  1.80216403e-08 1.27619468e-08]]\n",
      "Maximum difference: 4.6322157110090245e-08\n"
     ]
    }
   ],
   "source": [
    "import os\n",
    "import numpy as np\n",
    "import pyhelayers\n",
    "import utils                # Your helper module from the FHE setup\n",
    "import tensorflow as tf     # For resizing\n",
    "\n",
    "# ---------------------------------------------------------------------------\n",
    "# 1. Load/Define your combined SHAP values (from your SHAP explainability)\n",
    "#    Here we assume shap_values_reshaped is a list of 10 arrays (one per class)\n",
    "#    with shape (n_samples, 14, 14, 1). We combine them by averaging and resize.\n",
    "# ---------------------------------------------------------------------------\n",
    "combined_shap_values = np.mean(np.array(shap_values_reshaped), axis=0)\n",
    "print(\"Shape of combined SHAP values before resizing:\", combined_shap_values.shape)\n",
    "expected_spatial_dims = (29, 29)\n",
    "if combined_shap_values.shape[1:3] != expected_spatial_dims:\n",
    "    combined_shap_values = tf.image.resize(combined_shap_values, expected_spatial_dims,\n",
    "                                           method=tf.image.ResizeMethod.BILINEAR).numpy()\n",
    "print(\"Shape of combined SHAP values after resizing:\", combined_shap_values.shape)\n",
    "# Now combined_shap_values has shape (n_samples, 29, 29, 1)\n",
    "\n",
    "# ---------------------------------------------------------------------------\n",
    "# 2. Obtain Plaintext Predictions (Reference)\n",
    "# ---------------------------------------------------------------------------\n",
    "# (Assuming your original plain Keras model is available as 'model')\n",
    "plaintext_predictions = model.predict(combined_shap_values)\n",
    "print(\"Plaintext predictions from combined SHAP values:\")\n",
    "print(plaintext_predictions)\n",
    "# These predictions are what you would get if you fed the combined SHAP values to your model in the clear.\n",
    "\n",
    "# ---------------------------------------------------------------------------\n",
    "# 3. Set Up the FHE Environment and Encrypt the Combined SHAP Values\n",
    "# ---------------------------------------------------------------------------\n",
    "utils.verify_memory()\n",
    "print(\"Initializing homomorphic encryption for SHAP values...\")\n",
    "\n",
    "he_run_req = pyhelayers.HeRunRequirements()\n",
    "he_run_req.set_he_context_options([pyhelayers.DefaultContext()])\n",
    "he_run_req.optimize_for_batch_size(16)\n",
    "\n",
    "# Initialize and encrypt the neural network model from FHE files.\n",
    "nn = pyhelayers.NeuralNet()\n",
    "nn.encode_encrypt([os.path.join(PATH, \"model.json\"), os.path.join(PATH, \"model.h5\")], he_run_req)\n",
    "context = nn.get_created_he_context()\n",
    "\n",
    "# Create an EncryptedData object for the input and a ModelIoEncoder.\n",
    "shap_encrypted = pyhelayers.EncryptedData(context)\n",
    "shap_io_encoder = pyhelayers.ModelIoEncoder(nn)\n",
    "\n",
    "# Encrypt the combined SHAP values. \n",
    "# Note: The encoder expects a [numpy array] that matches the network's input shape.\n",
    "shap_io_encoder.encode_encrypt(shap_encrypted, [combined_shap_values])\n",
    "print(\"SHAP values encrypted successfully.\")\n",
    "\n",
    "# ---------------------------------------------------------------------------\n",
    "# 4. Run Encrypted Inference and Decrypt the Prediction Output\n",
    "# ---------------------------------------------------------------------------\n",
    "encrypted_output = pyhelayers.EncryptedData(context)\n",
    "print(\"Running encrypted inference on the combined SHAP values...\")\n",
    "nn.predict(encrypted_output, shap_encrypted)\n",
    "\n",
    "# Decrypt and decode the network's output.\n",
    "fhe_predictions = shap_io_encoder.decrypt_decode_output(encrypted_output)\n",
    "print(\"FHE predictions (decrypted) from combined SHAP values:\")\n",
    "print(fhe_predictions)\n",
    "\n",
    "# ---------------------------------------------------------------------------\n",
    "# 5. Compare the Results\n",
    "# ---------------------------------------------------------------------------\n",
    "difference = np.abs(plaintext_predictions - fhe_predictions)\n",
    "print(\"Difference between plaintext and FHE predictions:\")\n",
    "print(difference)\n",
    "\n",
    "# Optionally, you could compute aggregate statistics like maximum difference:\n",
    "max_diff = np.max(difference)\n",
    "print(\"Maximum difference:\", max_diff)\n"
   ]
  },
  {
   "cell_type": "markdown",
   "id": "cfd1f421-5ec8-4d33-9aa0-fcb4b25831bb",
   "metadata": {},
   "source": [
    "Below is one integrated code example that meets the following objective:\n",
    "\n",
    "Build a SHAP explainer on plain training data (background) using your plain x_train.\n",
    "\n",
    "Define two prediction functions for your neural network:\n",
    "\n",
    "A plain prediction function (using your unencrypted model).\n",
    "\n",
    "An FHE prediction function that encrypts incoming data using pyhelayers (with your previously built FHE model), runs encrypted inference, then decrypts the result.\n",
    "\n",
    "Use the same SHAP explainer framework (here we use KernelExplainer for illustration) with both prediction functions on a (small) set of x_test samples.\n",
    "\n",
    "Compare the “raw” SHAP values obtained in the clear (plain) with those computed via the FHE‐encrypted pathway (which you decrypt to recover the SHAP values).\n",
    "\n",
    "In effect, you verify that applying FHE to the “explanation” (via the prediction function inside SHAP) “preserves” the information encoded in the SHAP values.\n",
    "\n",
    "Below is the complete code. (Adjust paths, nsamples, and sample counts as needed.)"
   ]
  },
  {
   "cell_type": "code",
   "execution_count": null,
   "id": "725f55cb-adbd-4730-9524-1502701a38d9",
   "metadata": {
    "tags": []
   },
   "outputs": [
    {
     "name": "stdout",
     "output_type": "stream",
     "text": [
      "\u001b[1;31mWarning: total available memory is 7.481624603271484 GB the minimum required memory is 8 GB\n",
      "\u001b[0;0mInitializing FHE for prediction...\n",
      "32/32 [==============================] - 0s 2ms/step\n"
     ]
    },
    {
     "name": "stderr",
     "output_type": "stream",
     "text": [
      "Using 1000 background data samples could cause slower run times. Consider using shap.sample(data, K) or shap.kmeans(data, K) to summarize the background as K samples.\n"
     ]
    }
   ],
   "source": [
    "import os\n",
    "import numpy as np\n",
    "import tensorflow as tf\n",
    "import shap\n",
    "import pyhelayers\n",
    "import utils  # Your helper module for FHE setup\n",
    "\n",
    "# -----------------------------------------------------------------------------\n",
    "# 1. Data Preparation\n",
    "# -----------------------------------------------------------------------------\n",
    "# For KernelExplainer to work reliably, the number of background samples must\n",
    "# exceed the number of features. Since each image (29,29,1) flattens to 841 features,\n",
    "# we choose a background size of 1000 samples (or any number >>841).\n",
    "background = x_train[:1000]       # shape: (1000, 29, 29, 1)\n",
    "x_test_small = x_test[:2]         # shape: (2, 29, 29, 1)\n",
    "\n",
    "# Flatten images to 1D (KernelExplainer requires 1D or 2D input).\n",
    "background_flat = background.reshape((background.shape[0], -1))  # shape: (1000, 841)\n",
    "x_test_small_flat = x_test_small.reshape((x_test_small.shape[0], -1))  # shape: (2, 841)\n",
    "\n",
    "# -----------------------------------------------------------------------------\n",
    "# 2. Define Prediction Functions that work on flattened input\n",
    "# -----------------------------------------------------------------------------\n",
    "def plain_predict_flat(flat_data):\n",
    "    \"\"\"\n",
    "    Takes flattened inputs (n_samples, 841), reshapes to (-1,29,29,1),\n",
    "    and returns predictions from the plain model.\n",
    "    \"\"\"\n",
    "    reshaped = flat_data.reshape(-1, 29, 29, 1)\n",
    "    return model.predict(reshaped)\n",
    "\n",
    "# Initialize FHE components for encrypted inference\n",
    "utils.verify_memory()\n",
    "print(\"Initializing FHE for prediction...\")\n",
    "he_run_req = pyhelayers.HeRunRequirements()\n",
    "he_run_req.set_he_context_options([pyhelayers.DefaultContext()])\n",
    "he_run_req.optimize_for_batch_size(16)\n",
    "\n",
    "nn = pyhelayers.NeuralNet()\n",
    "nn.encode_encrypt([os.path.join(PATH, \"model.json\"), os.path.join(PATH, \"model.h5\")],\n",
    "                  he_run_req)\n",
    "context = nn.get_created_he_context()\n",
    "shap_io_encoder = pyhelayers.ModelIoEncoder(nn)\n",
    "\n",
    "def fhe_predict_flat(flat_data):\n",
    "    \"\"\"\n",
    "    Takes flattened input (n_samples, 841), reshapes to (-1,29,29,1),\n",
    "    encrypts it, runs FHE inference, decrypts output, and returns predictions.\n",
    "    \"\"\"\n",
    "    reshaped = flat_data.reshape(-1, 29, 29, 1)\n",
    "    # Encrypt the input.\n",
    "    encrypted_input = pyhelayers.EncryptedData(context)\n",
    "    shap_io_encoder.encode_encrypt(encrypted_input, [reshaped])\n",
    "    \n",
    "    # Perform encrypted prediction.\n",
    "    encrypted_output = pyhelayers.EncryptedData(context)\n",
    "    nn.predict(encrypted_output, encrypted_input)\n",
    "    \n",
    "    # Decrypt the output.\n",
    "    decrypted_result = shap_io_encoder.decrypt_decode_output(encrypted_output)\n",
    "    return decrypted_result\n",
    "\n",
    "# -----------------------------------------------------------------------------\n",
    "# 3. Build SHAP Explainers Using the Flattened Background\n",
    "# -----------------------------------------------------------------------------\n",
    "# Setting l1_reg to a fixed constant (e.g. 0.001) avoids the default noise variance\n",
    "# estimation that causes the under-determined error when background size is small.\n",
    "l1_reg_constant = 0.001\n",
    "\n",
    "explainer_plain = shap.KernelExplainer(plain_predict_flat, background_flat, l1_reg=l1_reg_constant)\n",
    "explainer_fhe   = shap.KernelExplainer(fhe_predict_flat, background_flat,   l1_reg=l1_reg_constant)\n",
    "\n",
    "# Choose a modest number of samples for perturbations.\n",
    "nsamples = 50\n",
    "\n",
    "# -----------------------------------------------------------------------------\n",
    "# 4. Compute SHAP Values for x_test_small (Flattened) for Both Methods\n",
    "# -----------------------------------------------------------------------------\n",
    "print(\"Computing plain SHAP values...\")\n",
    "plain_shap_values = explainer_plain.shap_values(x_test_small_flat, nsamples=nsamples)\n",
    "print(\"Plain SHAP values:\")\n",
    "print(plain_shap_values)\n",
    "\n",
    "print(\"Computing FHE SHAP values (via encrypted prediction)...\")\n",
    "fhe_shap_values = explainer_fhe.shap_values(x_test_small_flat, nsamples=nsamples)\n",
    "print(\"FHE SHAP values (after decryption):\")\n",
    "print(fhe_shap_values)\n",
    "\n",
    "# -----------------------------------------------------------------------------\n",
    "# 5. Verification: Compare the Plain vs. FHE SHAP Values\n",
    "# -----------------------------------------------------------------------------\n",
    "difference = np.abs(np.array(plain_shap_values) - np.array(fhe_shap_values))\n",
    "print(\"Difference between Plain and FHE SHAP values:\")\n",
    "print(difference)\n",
    "\n",
    "max_diff = np.max(difference)\n",
    "print(\"Maximum difference:\", max_diff)\n"
   ]
  },
  {
   "cell_type": "markdown",
   "id": "bae69f9e",
   "metadata": {},
   "source": [
    "<br>\n",
    "\n",
    "References:\n",
    "\n",
    "<sub><sup> 1.\tLeCun, Yann and Cortes, Corinna. \"MNIST handwritten digit database.\" (2010): </sup></sub>\n",
    "\n",
    "<sub><sup> 2.\tGilad-Bachrach, R., Dowlin, N., Laine, K., Lauter, K., Naehrig, M. &amp; Wernsing, J.. (2016). CryptoNets: Applying Neural Networks to Encrypted Data with High Throughput and Accuracy. Proceedings of The 33rd International Conference on Machine Learning, in Proceedings of Machine Learning Research 48:201-210 Available from https://proceedings.mlr.press/v48/gilad-bachrach16.html.\n",
    "</sup></sub>\n"
   ]
  }
 ],
 "metadata": {
  "kernelspec": {
   "display_name": "Python 3 (ipykernel)",
   "language": "python",
   "name": "python3"
  },
  "language_info": {
   "codemirror_mode": {
    "name": "ipython",
    "version": 3
   },
   "file_extension": ".py",
   "mimetype": "text/x-python",
   "name": "python",
   "nbconvert_exporter": "python",
   "pygments_lexer": "ipython3",
   "version": "3.8.10"
  }
 },
 "nbformat": 4,
 "nbformat_minor": 5
}
